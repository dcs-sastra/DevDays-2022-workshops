{
 "cells": [
  {
   "cell_type": "code",
   "execution_count": 1,
   "id": "243dd2e3",
   "metadata": {
    "_cell_guid": "b1076dfc-b9ad-4769-8c92-a6c4dae69d19",
    "_uuid": "8f2839f25d086af736a60e9eeb907d3b93b6e0e5",
    "execution": {
     "iopub.execute_input": "2022-05-22T03:32:00.763914Z",
     "iopub.status.busy": "2022-05-22T03:32:00.763300Z",
     "iopub.status.idle": "2022-05-22T03:32:07.068821Z",
     "shell.execute_reply": "2022-05-22T03:32:07.067867Z"
    },
    "papermill": {
     "duration": 6.320831,
     "end_time": "2022-05-22T03:32:07.071609",
     "exception": false,
     "start_time": "2022-05-22T03:32:00.750778",
     "status": "completed"
    },
    "tags": []
   },
   "outputs": [],
   "source": [
    "import pandas as pd\n",
    "\n",
    "# ---------------------------------------------- #\n",
    "\n",
    "import tensorflow as tf\n",
    "from tensorflow.keras.models import Sequential\n",
    "from tensorflow.keras.layers import Dense\n",
    "\n",
    "# ---------------------------------------------- #\n",
    "\n",
    "from tensorflow import lite\n",
    "from IPython.display import display"
   ]
  },
  {
   "cell_type": "code",
   "execution_count": 2,
   "id": "ac7026bf",
   "metadata": {
    "execution": {
     "iopub.execute_input": "2022-05-22T03:32:07.091900Z",
     "iopub.status.busy": "2022-05-22T03:32:07.091572Z",
     "iopub.status.idle": "2022-05-22T03:32:07.108365Z",
     "shell.execute_reply": "2022-05-22T03:32:07.107366Z"
    },
    "papermill": {
     "duration": 0.029445,
     "end_time": "2022-05-22T03:32:07.110665",
     "exception": false,
     "start_time": "2022-05-22T03:32:07.081220",
     "status": "completed"
    },
    "tags": []
   },
   "outputs": [],
   "source": [
    "data = pd.read_csv(\"../input/dcs-model-deployment-workshop/preprocessed.csv\")"
   ]
  },
  {
   "cell_type": "code",
   "execution_count": 3,
   "id": "f7d8716b",
   "metadata": {
    "execution": {
     "iopub.execute_input": "2022-05-22T03:32:07.130658Z",
     "iopub.status.busy": "2022-05-22T03:32:07.129790Z",
     "iopub.status.idle": "2022-05-22T03:32:07.156044Z",
     "shell.execute_reply": "2022-05-22T03:32:07.154975Z"
    },
    "papermill": {
     "duration": 0.039308,
     "end_time": "2022-05-22T03:32:07.159102",
     "exception": false,
     "start_time": "2022-05-22T03:32:07.119794",
     "status": "completed"
    },
    "tags": []
   },
   "outputs": [
    {
     "name": "stdout",
     "output_type": "stream",
     "text": [
      "<class 'pandas.core.frame.DataFrame'>\n",
      "RangeIndex: 480 entries, 0 to 479\n",
      "Data columns (total 15 columns):\n",
      " #   Column                   Non-Null Count  Dtype  \n",
      "---  ------                   --------------  -----  \n",
      " 0   income                   480 non-null    float64\n",
      " 1   coincome                 480 non-null    float64\n",
      " 2   amount                   480 non-null    float64\n",
      " 3   term                     480 non-null    float64\n",
      " 4   credit_history           480 non-null    int64  \n",
      " 5   property_area_Semiurban  480 non-null    int64  \n",
      " 6   property_area_Urban      480 non-null    int64  \n",
      " 7   gender_Male              480 non-null    int64  \n",
      " 8   married_Yes              480 non-null    int64  \n",
      " 9   dependents_1             480 non-null    int64  \n",
      " 10  dependents_2             480 non-null    int64  \n",
      " 11  dependents_3+            480 non-null    int64  \n",
      " 12  education_Not Graduate   480 non-null    int64  \n",
      " 13  self_employed_Yes        480 non-null    int64  \n",
      " 14  loan_status_Y            480 non-null    int64  \n",
      "dtypes: float64(4), int64(11)\n",
      "memory usage: 56.4 KB\n"
     ]
    }
   ],
   "source": [
    "data.info()"
   ]
  },
  {
   "cell_type": "code",
   "execution_count": 4,
   "id": "e559d010",
   "metadata": {
    "execution": {
     "iopub.execute_input": "2022-05-22T03:32:07.180973Z",
     "iopub.status.busy": "2022-05-22T03:32:07.180647Z",
     "iopub.status.idle": "2022-05-22T03:32:07.299554Z",
     "shell.execute_reply": "2022-05-22T03:32:07.298848Z"
    },
    "papermill": {
     "duration": 0.132122,
     "end_time": "2022-05-22T03:32:07.301777",
     "exception": false,
     "start_time": "2022-05-22T03:32:07.169655",
     "status": "completed"
    },
    "tags": []
   },
   "outputs": [
    {
     "name": "stderr",
     "output_type": "stream",
     "text": [
      "2022-05-22 03:32:07.220670: I tensorflow/core/common_runtime/process_util.cc:146] Creating new thread pool with default inter op setting: 2. Tune using inter_op_parallelism_threads for best performance.\n"
     ]
    }
   ],
   "source": [
    "# Defining the model\n",
    "model = Sequential([\n",
    "    Dense(16, input_shape = (14, )),    # 14 inputs\n",
    "    Dense(8),\n",
    "    Dense(1, activation = \"sigmoid\")\n",
    "])\n",
    "\n",
    "# Compile\n",
    "model.compile(optimizer = \"adam\", loss = \"binary_crossentropy\", metrics = [\"accuracy\"])"
   ]
  },
  {
   "cell_type": "code",
   "execution_count": 5,
   "id": "50860575",
   "metadata": {
    "execution": {
     "iopub.execute_input": "2022-05-22T03:32:07.322562Z",
     "iopub.status.busy": "2022-05-22T03:32:07.322241Z",
     "iopub.status.idle": "2022-05-22T03:32:09.231139Z",
     "shell.execute_reply": "2022-05-22T03:32:09.230228Z"
    },
    "papermill": {
     "duration": 1.922072,
     "end_time": "2022-05-22T03:32:09.233422",
     "exception": false,
     "start_time": "2022-05-22T03:32:07.311350",
     "status": "completed"
    },
    "tags": []
   },
   "outputs": [
    {
     "name": "stderr",
     "output_type": "stream",
     "text": [
      "2022-05-22 03:32:07.414823: I tensorflow/compiler/mlir/mlir_graph_optimization_pass.cc:185] None of the MLIR Optimization Passes are enabled (registered 2)\n"
     ]
    },
    {
     "name": "stdout",
     "output_type": "stream",
     "text": [
      "Epoch 1/25\n",
      "30/30 [==============================] - 1s 1ms/step - loss: 0.6286 - accuracy: 0.6771\n",
      "Epoch 2/25\n",
      "30/30 [==============================] - 0s 1ms/step - loss: 0.5889 - accuracy: 0.6875\n",
      "Epoch 3/25\n",
      "30/30 [==============================] - 0s 1ms/step - loss: 0.5698 - accuracy: 0.7229\n",
      "Epoch 4/25\n",
      "30/30 [==============================] - 0s 1ms/step - loss: 0.5611 - accuracy: 0.7375\n",
      "Epoch 5/25\n",
      "30/30 [==============================] - 0s 1ms/step - loss: 0.5494 - accuracy: 0.7208\n",
      "Epoch 6/25\n",
      "30/30 [==============================] - 0s 1ms/step - loss: 0.5400 - accuracy: 0.7458\n",
      "Epoch 7/25\n",
      "30/30 [==============================] - 0s 1ms/step - loss: 0.5320 - accuracy: 0.7458\n",
      "Epoch 8/25\n",
      "30/30 [==============================] - 0s 1ms/step - loss: 0.5283 - accuracy: 0.7500\n",
      "Epoch 9/25\n",
      "30/30 [==============================] - 0s 1ms/step - loss: 0.5232 - accuracy: 0.7521\n",
      "Epoch 10/25\n",
      "30/30 [==============================] - 0s 1ms/step - loss: 0.5156 - accuracy: 0.7646\n",
      "Epoch 11/25\n",
      "30/30 [==============================] - 0s 1ms/step - loss: 0.5115 - accuracy: 0.7708\n",
      "Epoch 12/25\n",
      "30/30 [==============================] - 0s 1ms/step - loss: 0.5071 - accuracy: 0.7812\n",
      "Epoch 13/25\n",
      "30/30 [==============================] - 0s 1ms/step - loss: 0.5052 - accuracy: 0.7812\n",
      "Epoch 14/25\n",
      "30/30 [==============================] - 0s 1ms/step - loss: 0.5005 - accuracy: 0.7917\n",
      "Epoch 15/25\n",
      "30/30 [==============================] - 0s 1ms/step - loss: 0.4966 - accuracy: 0.8000\n",
      "Epoch 16/25\n",
      "30/30 [==============================] - 0s 1ms/step - loss: 0.4922 - accuracy: 0.8062\n",
      "Epoch 17/25\n",
      "30/30 [==============================] - 0s 1ms/step - loss: 0.4894 - accuracy: 0.8083\n",
      "Epoch 18/25\n",
      "30/30 [==============================] - 0s 1ms/step - loss: 0.4881 - accuracy: 0.8062\n",
      "Epoch 19/25\n",
      "30/30 [==============================] - 0s 1ms/step - loss: 0.4854 - accuracy: 0.8042\n",
      "Epoch 20/25\n",
      "30/30 [==============================] - 0s 1ms/step - loss: 0.4824 - accuracy: 0.8083\n",
      "Epoch 21/25\n",
      "30/30 [==============================] - 0s 1ms/step - loss: 0.4823 - accuracy: 0.8125\n",
      "Epoch 22/25\n",
      "30/30 [==============================] - 0s 1ms/step - loss: 0.4797 - accuracy: 0.8083\n",
      "Epoch 23/25\n",
      "30/30 [==============================] - 0s 1ms/step - loss: 0.4765 - accuracy: 0.8083\n",
      "Epoch 24/25\n",
      "30/30 [==============================] - 0s 1ms/step - loss: 0.4760 - accuracy: 0.8083\n",
      "Epoch 25/25\n",
      "30/30 [==============================] - 0s 1ms/step - loss: 0.4737 - accuracy: 0.8104\n"
     ]
    },
    {
     "data": {
      "text/plain": [
       "<keras.callbacks.History at 0x7f37dd9524d0>"
      ]
     },
     "execution_count": 5,
     "metadata": {},
     "output_type": "execute_result"
    }
   ],
   "source": [
    "# Training the network\n",
    "model.fit(data.iloc[:, :-1], data.iloc[:, -1], epochs = 25, batch_size = 16)"
   ]
  },
  {
   "cell_type": "code",
   "execution_count": 6,
   "id": "45d0aec1",
   "metadata": {
    "execution": {
     "iopub.execute_input": "2022-05-22T03:32:09.288950Z",
     "iopub.status.busy": "2022-05-22T03:32:09.288591Z",
     "iopub.status.idle": "2022-05-22T03:32:09.983151Z",
     "shell.execute_reply": "2022-05-22T03:32:09.982086Z"
    },
    "papermill": {
     "duration": 0.725101,
     "end_time": "2022-05-22T03:32:09.985661",
     "exception": false,
     "start_time": "2022-05-22T03:32:09.260560",
     "status": "completed"
    },
    "tags": []
   },
   "outputs": [
    {
     "name": "stderr",
     "output_type": "stream",
     "text": [
      "2022-05-22 03:32:09.520838: W tensorflow/python/util/util.cc:348] Sets are not currently considered sequences, but this may change in the future, so consider avoiding using them.\n"
     ]
    }
   ],
   "source": [
    "# Saving the model\n",
    "model.save(\"./model\")"
   ]
  },
  {
   "cell_type": "code",
   "execution_count": 7,
   "id": "cf3856fb",
   "metadata": {
    "execution": {
     "iopub.execute_input": "2022-05-22T03:32:10.041765Z",
     "iopub.status.busy": "2022-05-22T03:32:10.041380Z",
     "iopub.status.idle": "2022-05-22T03:32:10.414117Z",
     "shell.execute_reply": "2022-05-22T03:32:10.413233Z"
    },
    "papermill": {
     "duration": 0.402999,
     "end_time": "2022-05-22T03:32:10.415984",
     "exception": false,
     "start_time": "2022-05-22T03:32:10.012985",
     "status": "completed"
    },
    "tags": []
   },
   "outputs": [
    {
     "data": {
      "text/plain": [
       "array([[0.7629219]], dtype=float32)"
      ]
     },
     "execution_count": 7,
     "metadata": {},
     "output_type": "execute_result"
    }
   ],
   "source": [
    "# Inference\n",
    "from tensorflow.keras.models import load_model\n",
    "import numpy as np\n",
    "\n",
    "m = load_model(\"./model\")\n",
    "m.predict(np.array(data.iloc[1, :-1]).reshape(1, 14))"
   ]
  },
  {
   "cell_type": "markdown",
   "id": "56ffbcdb",
   "metadata": {
    "papermill": {
     "duration": 0.027355,
     "end_time": "2022-05-22T03:32:10.471024",
     "exception": false,
     "start_time": "2022-05-22T03:32:10.443669",
     "status": "completed"
    },
    "tags": []
   },
   "source": [
    "# **Model quantization using TFLite**"
   ]
  },
  {
   "cell_type": "code",
   "execution_count": 8,
   "id": "078306e4",
   "metadata": {
    "execution": {
     "iopub.execute_input": "2022-05-22T03:32:10.528123Z",
     "iopub.status.busy": "2022-05-22T03:32:10.527211Z",
     "iopub.status.idle": "2022-05-22T03:32:10.996400Z",
     "shell.execute_reply": "2022-05-22T03:32:10.995177Z"
    },
    "papermill": {
     "duration": 0.505051,
     "end_time": "2022-05-22T03:32:11.003525",
     "exception": false,
     "start_time": "2022-05-22T03:32:10.498474",
     "status": "completed"
    },
    "tags": []
   },
   "outputs": [
    {
     "name": "stderr",
     "output_type": "stream",
     "text": [
      "2022-05-22 03:32:10.746310: W tensorflow/compiler/mlir/lite/python/tf_tfl_flatbuffer_helpers.cc:351] Ignored output_format.\n",
      "2022-05-22 03:32:10.746378: W tensorflow/compiler/mlir/lite/python/tf_tfl_flatbuffer_helpers.cc:354] Ignored drop_control_dependency.\n",
      "2022-05-22 03:32:10.746400: W tensorflow/compiler/mlir/lite/python/tf_tfl_flatbuffer_helpers.cc:360] Ignored change_concat_input_ranges.\n",
      "2022-05-22 03:32:10.748228: I tensorflow/cc/saved_model/reader.cc:38] Reading SavedModel from: ./model\n",
      "2022-05-22 03:32:10.751150: I tensorflow/cc/saved_model/reader.cc:90] Reading meta graph with tags { serve }\n",
      "2022-05-22 03:32:10.751185: I tensorflow/cc/saved_model/reader.cc:132] Reading SavedModel debug info (if present) from: ./model\n",
      "2022-05-22 03:32:10.751331: I tensorflow/core/common_runtime/process_util.cc:146] Creating new thread pool with default inter op setting: 2. Tune using inter_op_parallelism_threads for best performance.\n",
      "2022-05-22 03:32:10.758027: I tensorflow/cc/saved_model/loader.cc:229] Restoring SavedModel bundle.\n",
      "2022-05-22 03:32:10.822269: I tensorflow/cc/saved_model/loader.cc:213] Running initialization op on SavedModel bundle at path: ./model\n",
      "2022-05-22 03:32:10.830019: I tensorflow/cc/saved_model/loader.cc:301] SavedModel load for tags { serve }; Status: success: OK. Took 81794 microseconds.\n",
      "2022-05-22 03:32:10.875842: I tensorflow/compiler/mlir/tensorflow/utils/dump_mlir_util.cc:210] disabling MLIR crash reproducer, set env var `MLIR_CRASH_REPRODUCER_DIRECTORY` to enable.\n",
      "2022-05-22 03:32:10.928617: I tensorflow/core/common_runtime/process_util.cc:146] Creating new thread pool with default inter op setting: 2. Tune using inter_op_parallelism_threads for best performance.\n",
      "2022-05-22 03:32:10.984502: I tensorflow/lite/tools/optimize/quantize_weights.cc:225] Skipping quantization of tensor sequential/dense/MatMul because it has fewer than 1024 elements (224).\n",
      "2022-05-22 03:32:10.984558: I tensorflow/lite/tools/optimize/quantize_weights.cc:225] Skipping quantization of tensor sequential/dense_1/MatMul because it has fewer than 1024 elements (128).\n",
      "2022-05-22 03:32:10.984568: I tensorflow/lite/tools/optimize/quantize_weights.cc:225] Skipping quantization of tensor sequential/dense_2/MatMul because it has fewer than 1024 elements (8).\n"
     ]
    }
   ],
   "source": [
    "# Initialising converters\n",
    "tflite_converter = lite.TFLiteConverter.from_saved_model(\"./model\")\n",
    "\n",
    "# Defining quantisation schema\n",
    "tflite_converter.optimizations = [lite.Optimize.DEFAULT]\n",
    "\n",
    "tflite_converter.target_spec.supported_ops = [\n",
    "  tf.lite.OpsSet.TFLITE_BUILTINS, # enable TensorFlow Lite ops.\n",
    "  tf.lite.OpsSet.SELECT_TF_OPS # enable TensorFlow ops.\n",
    "]\n",
    "\n",
    "# Converting to TFLite\n",
    "tflite_model = tflite_converter.convert()"
   ]
  },
  {
   "cell_type": "code",
   "execution_count": 9,
   "id": "7a075843",
   "metadata": {
    "execution": {
     "iopub.execute_input": "2022-05-22T03:32:11.061865Z",
     "iopub.status.busy": "2022-05-22T03:32:11.061099Z",
     "iopub.status.idle": "2022-05-22T03:32:11.066028Z",
     "shell.execute_reply": "2022-05-22T03:32:11.065155Z"
    },
    "papermill": {
     "duration": 0.035548,
     "end_time": "2022-05-22T03:32:11.067843",
     "exception": false,
     "start_time": "2022-05-22T03:32:11.032295",
     "status": "completed"
    },
    "tags": []
   },
   "outputs": [],
   "source": [
    "# Saving quantised model\n",
    "with open(\"./model.tflite\", 'wb') as f:\n",
    "    f.write(tflite_model)"
   ]
  },
  {
   "cell_type": "code",
   "execution_count": null,
   "id": "9e601f91",
   "metadata": {
    "papermill": {
     "duration": 0.027789,
     "end_time": "2022-05-22T03:32:11.125716",
     "exception": false,
     "start_time": "2022-05-22T03:32:11.097927",
     "status": "completed"
    },
    "tags": []
   },
   "outputs": [],
   "source": []
  }
 ],
 "metadata": {
  "kernelspec": {
   "display_name": "Python 3",
   "language": "python",
   "name": "python3"
  },
  "language_info": {
   "codemirror_mode": {
    "name": "ipython",
    "version": 3
   },
   "file_extension": ".py",
   "mimetype": "text/x-python",
   "name": "python",
   "nbconvert_exporter": "python",
   "pygments_lexer": "ipython3",
   "version": "3.7.12"
  },
  "papermill": {
   "default_parameters": {},
   "duration": 22.470984,
   "end_time": "2022-05-22T03:32:14.599159",
   "environment_variables": {},
   "exception": null,
   "input_path": "__notebook__.ipynb",
   "output_path": "__notebook__.ipynb",
   "parameters": {},
   "start_time": "2022-05-22T03:31:52.128175",
   "version": "2.3.4"
  }
 },
 "nbformat": 4,
 "nbformat_minor": 5
}
