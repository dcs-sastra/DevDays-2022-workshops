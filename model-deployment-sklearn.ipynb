{
 "cells": [
  {
   "cell_type": "code",
   "execution_count": 1,
   "id": "df3735ee",
   "metadata": {
    "execution": {
     "iopub.execute_input": "2022-05-22T03:32:03.273669Z",
     "iopub.status.busy": "2022-05-22T03:32:03.272608Z",
     "iopub.status.idle": "2022-05-22T03:32:04.780845Z",
     "shell.execute_reply": "2022-05-22T03:32:04.779875Z"
    },
    "papermill": {
     "duration": 1.521774,
     "end_time": "2022-05-22T03:32:04.783992",
     "exception": false,
     "start_time": "2022-05-22T03:32:03.262218",
     "status": "completed"
    },
    "tags": []
   },
   "outputs": [],
   "source": [
    "import pandas as pd\n",
    "import pickle\n",
    "\n",
    "# --------------------------------------------------- #\n",
    "\n",
    "from sklearn.ensemble import RandomForestClassifier"
   ]
  },
  {
   "cell_type": "code",
   "execution_count": 2,
   "id": "264a5a0c",
   "metadata": {
    "execution": {
     "iopub.execute_input": "2022-05-22T03:32:04.802654Z",
     "iopub.status.busy": "2022-05-22T03:32:04.801807Z",
     "iopub.status.idle": "2022-05-22T03:32:04.823391Z",
     "shell.execute_reply": "2022-05-22T03:32:04.822664Z"
    },
    "papermill": {
     "duration": 0.032491,
     "end_time": "2022-05-22T03:32:04.825674",
     "exception": false,
     "start_time": "2022-05-22T03:32:04.793183",
     "status": "completed"
    },
    "tags": []
   },
   "outputs": [],
   "source": [
    "data = pd.read_csv(\"../input/dcs-model-deployment-workshop/preprocessed.csv\")"
   ]
  },
  {
   "cell_type": "code",
   "execution_count": 3,
   "id": "bf2c8822",
   "metadata": {
    "execution": {
     "iopub.execute_input": "2022-05-22T03:32:04.843093Z",
     "iopub.status.busy": "2022-05-22T03:32:04.842599Z",
     "iopub.status.idle": "2022-05-22T03:32:04.868963Z",
     "shell.execute_reply": "2022-05-22T03:32:04.868004Z"
    },
    "papermill": {
     "duration": 0.037638,
     "end_time": "2022-05-22T03:32:04.871131",
     "exception": false,
     "start_time": "2022-05-22T03:32:04.833493",
     "status": "completed"
    },
    "tags": []
   },
   "outputs": [
    {
     "data": {
      "text/html": [
       "<div>\n",
       "<style scoped>\n",
       "    .dataframe tbody tr th:only-of-type {\n",
       "        vertical-align: middle;\n",
       "    }\n",
       "\n",
       "    .dataframe tbody tr th {\n",
       "        vertical-align: top;\n",
       "    }\n",
       "\n",
       "    .dataframe thead th {\n",
       "        text-align: right;\n",
       "    }\n",
       "</style>\n",
       "<table border=\"1\" class=\"dataframe\">\n",
       "  <thead>\n",
       "    <tr style=\"text-align: right;\">\n",
       "      <th></th>\n",
       "      <th>income</th>\n",
       "      <th>coincome</th>\n",
       "      <th>amount</th>\n",
       "      <th>term</th>\n",
       "      <th>credit_history</th>\n",
       "      <th>property_area_Semiurban</th>\n",
       "      <th>property_area_Urban</th>\n",
       "      <th>gender_Male</th>\n",
       "      <th>married_Yes</th>\n",
       "      <th>dependents_1</th>\n",
       "      <th>dependents_2</th>\n",
       "      <th>dependents_3+</th>\n",
       "      <th>education_Not Graduate</th>\n",
       "      <th>self_employed_Yes</th>\n",
       "      <th>loan_status_Y</th>\n",
       "    </tr>\n",
       "  </thead>\n",
       "  <tbody>\n",
       "    <tr>\n",
       "      <th>0</th>\n",
       "      <td>-0.137970</td>\n",
       "      <td>-0.027952</td>\n",
       "      <td>-0.208089</td>\n",
       "      <td>0.275542</td>\n",
       "      <td>1</td>\n",
       "      <td>0</td>\n",
       "      <td>0</td>\n",
       "      <td>1</td>\n",
       "      <td>1</td>\n",
       "      <td>1</td>\n",
       "      <td>0</td>\n",
       "      <td>0</td>\n",
       "      <td>0</td>\n",
       "      <td>0</td>\n",
       "      <td>0</td>\n",
       "    </tr>\n",
       "    <tr>\n",
       "      <th>1</th>\n",
       "      <td>-0.417536</td>\n",
       "      <td>-0.604633</td>\n",
       "      <td>-0.979001</td>\n",
       "      <td>0.275542</td>\n",
       "      <td>1</td>\n",
       "      <td>0</td>\n",
       "      <td>1</td>\n",
       "      <td>1</td>\n",
       "      <td>1</td>\n",
       "      <td>0</td>\n",
       "      <td>0</td>\n",
       "      <td>0</td>\n",
       "      <td>0</td>\n",
       "      <td>1</td>\n",
       "      <td>1</td>\n",
       "    </tr>\n",
       "    <tr>\n",
       "      <th>2</th>\n",
       "      <td>-0.491180</td>\n",
       "      <td>0.297100</td>\n",
       "      <td>-0.307562</td>\n",
       "      <td>0.275542</td>\n",
       "      <td>1</td>\n",
       "      <td>0</td>\n",
       "      <td>1</td>\n",
       "      <td>1</td>\n",
       "      <td>1</td>\n",
       "      <td>0</td>\n",
       "      <td>0</td>\n",
       "      <td>0</td>\n",
       "      <td>1</td>\n",
       "      <td>0</td>\n",
       "      <td>1</td>\n",
       "    </tr>\n",
       "    <tr>\n",
       "      <th>3</th>\n",
       "      <td>0.112280</td>\n",
       "      <td>-0.604633</td>\n",
       "      <td>-0.046446</td>\n",
       "      <td>0.275542</td>\n",
       "      <td>1</td>\n",
       "      <td>0</td>\n",
       "      <td>1</td>\n",
       "      <td>1</td>\n",
       "      <td>0</td>\n",
       "      <td>0</td>\n",
       "      <td>0</td>\n",
       "      <td>0</td>\n",
       "      <td>0</td>\n",
       "      <td>0</td>\n",
       "      <td>1</td>\n",
       "    </tr>\n",
       "    <tr>\n",
       "      <th>4</th>\n",
       "      <td>0.009319</td>\n",
       "      <td>0.999978</td>\n",
       "      <td>1.520245</td>\n",
       "      <td>0.275542</td>\n",
       "      <td>1</td>\n",
       "      <td>0</td>\n",
       "      <td>1</td>\n",
       "      <td>1</td>\n",
       "      <td>1</td>\n",
       "      <td>0</td>\n",
       "      <td>1</td>\n",
       "      <td>0</td>\n",
       "      <td>0</td>\n",
       "      <td>1</td>\n",
       "      <td>1</td>\n",
       "    </tr>\n",
       "  </tbody>\n",
       "</table>\n",
       "</div>"
      ],
      "text/plain": [
       "     income  coincome    amount      term  credit_history  \\\n",
       "0 -0.137970 -0.027952 -0.208089  0.275542               1   \n",
       "1 -0.417536 -0.604633 -0.979001  0.275542               1   \n",
       "2 -0.491180  0.297100 -0.307562  0.275542               1   \n",
       "3  0.112280 -0.604633 -0.046446  0.275542               1   \n",
       "4  0.009319  0.999978  1.520245  0.275542               1   \n",
       "\n",
       "   property_area_Semiurban  property_area_Urban  gender_Male  married_Yes  \\\n",
       "0                        0                    0            1            1   \n",
       "1                        0                    1            1            1   \n",
       "2                        0                    1            1            1   \n",
       "3                        0                    1            1            0   \n",
       "4                        0                    1            1            1   \n",
       "\n",
       "   dependents_1  dependents_2  dependents_3+  education_Not Graduate  \\\n",
       "0             1             0              0                       0   \n",
       "1             0             0              0                       0   \n",
       "2             0             0              0                       1   \n",
       "3             0             0              0                       0   \n",
       "4             0             1              0                       0   \n",
       "\n",
       "   self_employed_Yes  loan_status_Y  \n",
       "0                  0              0  \n",
       "1                  1              1  \n",
       "2                  0              1  \n",
       "3                  0              1  \n",
       "4                  1              1  "
      ]
     },
     "execution_count": 3,
     "metadata": {},
     "output_type": "execute_result"
    }
   ],
   "source": [
    "data.head()"
   ]
  },
  {
   "cell_type": "code",
   "execution_count": 4,
   "id": "522da12c",
   "metadata": {
    "execution": {
     "iopub.execute_input": "2022-05-22T03:32:04.889705Z",
     "iopub.status.busy": "2022-05-22T03:32:04.889398Z",
     "iopub.status.idle": "2022-05-22T03:32:04.899334Z",
     "shell.execute_reply": "2022-05-22T03:32:04.898418Z"
    },
    "papermill": {
     "duration": 0.021713,
     "end_time": "2022-05-22T03:32:04.901679",
     "exception": false,
     "start_time": "2022-05-22T03:32:04.879966",
     "status": "completed"
    },
    "tags": []
   },
   "outputs": [],
   "source": [
    "X = data.iloc[:, :-1]\n",
    "y = data.iloc[:, -1]"
   ]
  },
  {
   "cell_type": "code",
   "execution_count": 5,
   "id": "404de41a",
   "metadata": {
    "execution": {
     "iopub.execute_input": "2022-05-22T03:32:04.920617Z",
     "iopub.status.busy": "2022-05-22T03:32:04.920015Z",
     "iopub.status.idle": "2022-05-22T03:32:05.143013Z",
     "shell.execute_reply": "2022-05-22T03:32:05.142055Z"
    },
    "papermill": {
     "duration": 0.23531,
     "end_time": "2022-05-22T03:32:05.145423",
     "exception": false,
     "start_time": "2022-05-22T03:32:04.910113",
     "status": "completed"
    },
    "tags": []
   },
   "outputs": [
    {
     "data": {
      "text/plain": [
       "RandomForestClassifier()"
      ]
     },
     "execution_count": 5,
     "metadata": {},
     "output_type": "execute_result"
    }
   ],
   "source": [
    "rfc = RandomForestClassifier()\n",
    "rfc.fit(X, y)"
   ]
  },
  {
   "cell_type": "code",
   "execution_count": 6,
   "id": "04c2ff2f",
   "metadata": {
    "execution": {
     "iopub.execute_input": "2022-05-22T03:32:05.165787Z",
     "iopub.status.busy": "2022-05-22T03:32:05.165328Z",
     "iopub.status.idle": "2022-05-22T03:32:05.180445Z",
     "shell.execute_reply": "2022-05-22T03:32:05.179293Z"
    },
    "papermill": {
     "duration": 0.028044,
     "end_time": "2022-05-22T03:32:05.183068",
     "exception": false,
     "start_time": "2022-05-22T03:32:05.155024",
     "status": "completed"
    },
    "tags": []
   },
   "outputs": [],
   "source": [
    "with open(\"./rfc.pickle\", \"wb\") as f:\n",
    "    pickle.dump(rfc, f)"
   ]
  }
 ],
 "metadata": {
  "kernelspec": {
   "display_name": "Python 3",
   "language": "python",
   "name": "python3"
  },
  "language_info": {
   "codemirror_mode": {
    "name": "ipython",
    "version": 3
   },
   "file_extension": ".py",
   "mimetype": "text/x-python",
   "name": "python",
   "nbconvert_exporter": "python",
   "pygments_lexer": "ipython3",
   "version": "3.7.12"
  },
  "papermill": {
   "default_parameters": {},
   "duration": 14.069883,
   "end_time": "2022-05-22T03:32:06.014034",
   "environment_variables": {},
   "exception": null,
   "input_path": "__notebook__.ipynb",
   "output_path": "__notebook__.ipynb",
   "parameters": {},
   "start_time": "2022-05-22T03:31:51.944151",
   "version": "2.3.4"
  }
 },
 "nbformat": 4,
 "nbformat_minor": 5
}
